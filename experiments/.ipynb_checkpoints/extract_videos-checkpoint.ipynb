{
 "cells": [
  {
   "cell_type": "code",
   "execution_count": 1,
   "id": "9c841c91-ee62-4378-a47f-9991ecdd4678",
   "metadata": {},
   "outputs": [],
   "source": [
    "import cv2\n",
    "import numpy as np\n",
    "# import matplotlib.pyplot as plt\n",
    "import os\n",
    "from dv import AedatFile"
   ]
  },
  {
   "cell_type": "code",
   "execution_count": 2,
   "id": "10689648-fa1a-4e83-a0e9-f6575d725808",
   "metadata": {},
   "outputs": [],
   "source": [
    "aedat_dir = r\"D:\\Fight\\rotation\\Wei Zhang\\projects\\courtship song\\data\\aedat\"\n",
    "# aedat_fname = 'dvSave-2022_04_02_02_51_00_bitcode_test.aedat4'"
   ]
  },
  {
   "cell_type": "code",
   "execution_count": 3,
   "id": "a5fd704c-3dbc-4718-bb41-5b76bc2f8216",
   "metadata": {},
   "outputs": [
    {
     "ename": "KeyboardInterrupt",
     "evalue": "",
     "output_type": "error",
     "traceback": [
      "\u001b[1;31m---------------------------------------------------------------------------\u001b[0m",
      "\u001b[1;31mKeyboardInterrupt\u001b[0m                         Traceback (most recent call last)",
      "\u001b[1;32md:\\codes\\python\\courtship\\experiments\\extract_videos.ipynb Cell 3'\u001b[0m in \u001b[0;36m<cell line: 1>\u001b[1;34m()\u001b[0m\n\u001b[0;32m     <a href='vscode-notebook-cell:/d%3A/codes/python/courtship/experiments/extract_videos.ipynb#ch0000002?line=10'>11</a>\u001b[0m vw \u001b[39m=\u001b[39m cv2\u001b[39m.\u001b[39mVideoWriter(out_video_path, fourcc, fps, size, isColor \u001b[39m=\u001b[39m \u001b[39mTrue\u001b[39;00m)\n\u001b[0;32m     <a href='vscode-notebook-cell:/d%3A/codes/python/courtship/experiments/extract_videos.ipynb#ch0000002?line=11'>12</a>\u001b[0m \u001b[39mfor\u001b[39;00m frame \u001b[39min\u001b[39;00m frames:\n\u001b[1;32m---> <a href='vscode-notebook-cell:/d%3A/codes/python/courtship/experiments/extract_videos.ipynb#ch0000002?line=12'>13</a>\u001b[0m     vw\u001b[39m.\u001b[39;49mwrite(frame)\n\u001b[0;32m     <a href='vscode-notebook-cell:/d%3A/codes/python/courtship/experiments/extract_videos.ipynb#ch0000002?line=13'>14</a>\u001b[0m vw\u001b[39m.\u001b[39mrelease()\n",
      "\u001b[1;31mKeyboardInterrupt\u001b[0m: "
     ]
    }
   ],
   "source": [
    "for aedat_fname in filter(lambda s: s.endswith('.aedat4'), os.listdir(aedat_dir)):\n",
    "    aedat_path = os.path.join(aedat_dir, aedat_fname)\n",
    "    out_video_path = os.path.join(aedat_dir, aedat_fname.split('.')[0] + '.mp4')\n",
    "    with AedatFile(aedat_path) as f:\n",
    "        timestamps, frames = zip(*[(frame.timestamp, frame.image) for frame in f['frames']])\n",
    "        timestamps = np.array(timestamps)\n",
    "        frames = np.array(frames)\n",
    "    fourcc = cv2.VideoWriter_fourcc(*'mp4v')\n",
    "    size = [frames.shape[2], frames.shape[1]]\n",
    "    fps = 25\n",
    "    vw = cv2.VideoWriter(out_video_path, fourcc, fps, size, isColor = True)\n",
    "    for frame in frames:\n",
    "        vw.write(frame)\n",
    "    vw.release()\n",
    "\n",
    "    \n",
    "    break"
   ]
  },
  {
   "cell_type": "code",
   "execution_count": null,
   "id": "dac68f46-53d7-4d36-8c79-90f0f5a2ecbc",
   "metadata": {},
   "outputs": [],
   "source": []
  },
  {
   "cell_type": "code",
   "execution_count": null,
   "id": "133ead52-9559-4705-bbad-845ac15531d5",
   "metadata": {},
   "outputs": [],
   "source": []
  }
 ],
 "metadata": {
  "kernelspec": {
   "display_name": "Python 3 (ipykernel)",
   "language": "python",
   "name": "python3"
  },
  "language_info": {
   "codemirror_mode": {
    "name": "ipython",
    "version": 3
   },
   "file_extension": ".py",
   "mimetype": "text/x-python",
   "name": "python",
   "nbconvert_exporter": "python",
   "pygments_lexer": "ipython3",
   "version": "3.8.13"
  }
 },
 "nbformat": 4,
 "nbformat_minor": 5
}
