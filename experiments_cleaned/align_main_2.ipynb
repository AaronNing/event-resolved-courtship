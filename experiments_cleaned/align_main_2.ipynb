{
 "cells": [
  {
   "cell_type": "code",
   "execution_count": null,
   "metadata": {},
   "outputs": [],
   "source": [
    "import librosa\n",
    "import librosa.display\n",
    "import os\n",
    "import matplotlib.pyplot as plt\n",
    "import numpy as np\n",
    "import scipy.signal as signal\n",
    "import seaborn as sns\n",
    "import sys\n",
    "import pandas as pd\n",
    "\n",
    "sys.path.append(\"../utils\")\n",
    "from bitcode import *\n",
    "from utils import *\n",
    "from AlignedDvSound import *\n",
    "\n",
    "%load_ext autoreload\n",
    "%autoreload 2"
   ]
  },
  {
   "cell_type": "code",
   "execution_count": null,
   "metadata": {},
   "outputs": [],
   "source": [
    "out_dir = r\"D:\\Fight\\rotation\\Wei Zhang\\projects\\courtship song\\data\\out\"\n",
    "\n",
    "aedat_dir = r\"D:\\Fight\\rotation\\Wei Zhang\\projects\\courtship song\\data\\aedat\"\n",
    "aedat_fname = 'dvSave-2022_04_02_03_18_43.aedat4'\n",
    "dv_path = os.path.join(aedat_dir, aedat_fname)\n",
    "\n",
    "wav_dir = r\"D:\\Fight\\rotation\\Wei Zhang\\projects\\courtship song\\data\\wav\"\n",
    "wav_name = '20220401_2_main.wav'\n",
    "wv_path = os.path.join(wav_dir, wav_name)"
   ]
  },
  {
   "cell_type": "code",
   "execution_count": null,
   "metadata": {},
   "outputs": [],
   "source": [
    "# choose align roi\n",
    "with AedatFile(dv_path) as f:\n",
    "    # for frame in f['frames']:\n",
    "    img = next(f['frames']).image\n",
    "\n",
    "align_roi = cv2.selectROI(img)\n",
    "cv2.destroyAllWindows()\n",
    "\n",
    "# wing_roi = cv2.selectROI(img)\n",
    "# cv2.destroyAllWindows()\n",
    "print(align_roi)"
   ]
  },
  {
   "cell_type": "code",
   "execution_count": null,
   "metadata": {
    "jupyter": {
     "outputs_hidden": true
    },
    "tags": []
   },
   "outputs": [],
   "source": [
    "aligned = AlignedDvSound(dv_path, wv_path)\n",
    "# aligned.alignFromCodes(dv_codes=dv_code, wv_codes=wv_code)\n",
    "aligned.autoAlign(time_window=[30, 50], roi=align_roi)"
   ]
  },
  {
   "cell_type": "code",
   "execution_count": null,
   "metadata": {},
   "outputs": [],
   "source": [
    "print(aligned.align)"
   ]
  },
  {
   "cell_type": "code",
   "execution_count": null,
   "metadata": {},
   "outputs": [],
   "source": [
    "# choose align roi\n",
    "with AedatFile(dv_path) as f:\n",
    "    # for frame in f['frames']:\n",
    "    img = next(f['frames']).image\n",
    "\n",
    "# align_roi = cv2.selectROI(img)\n",
    "# cv2.destroyAllWindows()\n",
    "\n",
    "wing_roi = cv2.selectROI(img)\n",
    "cv2.destroyAllWindows()"
   ]
  },
  {
   "cell_type": "code",
   "execution_count": null,
   "metadata": {},
   "outputs": [],
   "source": [
    "print(wing_roi)"
   ]
  },
  {
   "cell_type": "code",
   "execution_count": null,
   "metadata": {
    "jupyter": {
     "outputs_hidden": true
    },
    "tags": []
   },
   "outputs": [],
   "source": [
    "slice = aligned.getSlice([7*60+30,7*60+35], coord='wv', roi=wing_roi)\n",
    "plt.plot(np.arange(slice['dv']['x'].shape[0]) / slice['dv']['sr'], normalize(slice['dv']['x']), linewidth=0.5)\n",
    "plt.plot(np.arange(slice['wv']['x'].shape[0]) / slice['wv']['sr'], normalize(slice['wv']['x']), linewidth=0.5)"
   ]
  },
  {
   "cell_type": "code",
   "execution_count": null,
   "metadata": {
    "jupyter": {
     "outputs_hidden": true
    },
    "tags": []
   },
   "outputs": [],
   "source": []
  },
  {
   "cell_type": "code",
   "execution_count": null,
   "metadata": {},
   "outputs": [],
   "source": [
    "import scipy\n",
    "\n",
    "plt.figure(figsize=[20,5], dpi=300)\n",
    "\n",
    "b, a = scipy.signal.butter(3, Wn=2*200/slice['wv']['sr'], btype='highpass', analog=False, output='ba')\n",
    "x = scipy.signal.filtfilt(b, a, slice['wv']['x'])\n",
    "plt.plot(np.arange(x.shape[0]) / slice['wv']['sr'], normalize(x), linewidth=0.5)\n",
    "\n",
    "b, a = scipy.signal.butter(3, Wn=2*200/slice['dv']['sr'], btype='highpass', analog=False, output='ba')\n",
    "x = scipy.signal.filtfilt(b, a, slice['dv']['x'])\n",
    "plt.plot(np.arange(x.shape[0]) / slice['dv']['sr'], normalize(x) + 20, linewidth=0.5)"
   ]
  },
  {
   "cell_type": "code",
   "execution_count": null,
   "metadata": {},
   "outputs": [],
   "source": []
  },
  {
   "cell_type": "code",
   "execution_count": null,
   "metadata": {},
   "outputs": [],
   "source": [
    "\n",
    "\n"
   ]
  },
  {
   "cell_type": "code",
   "execution_count": null,
   "metadata": {},
   "outputs": [],
   "source": [
    "slice['wv']['sr']"
   ]
  },
  {
   "cell_type": "code",
   "execution_count": null,
   "metadata": {},
   "outputs": [],
   "source": [
    "show_spec(slice['wv']['x'], slice['wv']['sr'])"
   ]
  },
  {
   "cell_type": "code",
   "execution_count": null,
   "metadata": {},
   "outputs": [],
   "source": []
  }
 ],
 "metadata": {
  "interpreter": {
   "hash": "98e5c40efd2962bfa26de09bb1deac289a4ed3ad793c5f00ca7c04c40cf71b1e"
  },
  "kernelspec": {
   "display_name": "Python 3 (ipykernel)",
   "language": "python",
   "name": "python3"
  },
  "language_info": {
   "codemirror_mode": {
    "name": "ipython",
    "version": 3
   },
   "file_extension": ".py",
   "mimetype": "text/x-python",
   "name": "python",
   "nbconvert_exporter": "python",
   "pygments_lexer": "ipython3",
   "version": "3.8.13"
  }
 },
 "nbformat": 4,
 "nbformat_minor": 4
}
