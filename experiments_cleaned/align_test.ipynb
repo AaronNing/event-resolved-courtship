{
 "cells": [
  {
   "cell_type": "code",
   "execution_count": null,
   "metadata": {},
   "outputs": [],
   "source": [
    "import librosa\n",
    "import librosa.display\n",
    "import os\n",
    "import matplotlib.pyplot as plt\n",
    "import numpy as np\n",
    "import scipy.signal as signal\n",
    "import seaborn as sns\n",
    "import sys\n",
    "import pandas as pd\n",
    "\n",
    "sys.path.append(\"../utils\")\n",
    "from bitcode import *\n",
    "from utils import *\n",
    "from AlignedDvSound import *\n",
    "\n",
    "%load_ext autoreload\n",
    "%autoreload 2"
   ]
  },
  {
   "cell_type": "code",
   "execution_count": null,
   "metadata": {},
   "outputs": [],
   "source": [
    "out_dir = r\"D:\\Fight\\rotation\\Wei Zhang\\projects\\courtship song\\data\\out\"\n",
    "\n",
    "aedat_dir = r\"D:\\Fight\\rotation\\Wei Zhang\\projects\\courtship song\\data\\aedat\"\n",
    "aedat_fname = 'dvSave-2022_04_02_02_51_00_bitcode_test.aedat4'\n",
    "dv_path = os.path.join(aedat_dir, aedat_fname)\n",
    "\n",
    "wav_dir = r\"D:\\Fight\\rotation\\Wei Zhang\\projects\\courtship song\\data\\wav\"\n",
    "wav_name = '20220401_0_bitcode_test.wav'\n",
    "wv_path = os.path.join(wav_dir, wav_name)\n",
    "\n",
    "dv_code_path = os.path.join(out_dir, \"dvSave-2022_04_02_02_51_00_bitcode_test_codes.csv\")\n",
    "wv_code_path = os.path.join(out_dir, \"20220401_0_bitcode_test_codes.csv\")\n",
    "\n",
    "dv_code = pd.read_csv(dv_code_path, index_col=0)\n",
    "wv_code = pd.read_csv(wv_code_path, index_col=0)"
   ]
  },
  {
   "cell_type": "code",
   "execution_count": null,
   "metadata": {},
   "outputs": [],
   "source": [
    "alignment = getAlignment(dv_code, wv_code, tol=0.1)\n",
    "sns.histplot(alignment['error'], bins=20)"
   ]
  },
  {
   "cell_type": "code",
   "execution_count": null,
   "metadata": {},
   "outputs": [],
   "source": [
    "aligned = AlignedDvSound(dv_path, wv_path)\n",
    "# aligned.alignFromCodes(dv_codes=dv_code, wv_codes=wv_code)\n",
    "aligned.autoAlign(time_window=[0, 30], roi=(211, 223, 55, 37))"
   ]
  },
  {
   "cell_type": "code",
   "execution_count": null,
   "metadata": {},
   "outputs": [],
   "source": []
  },
  {
   "cell_type": "code",
   "execution_count": null,
   "metadata": {},
   "outputs": [],
   "source": [
    "slice = aligned.getSlice([60,65], coord='dv', roi=(211, 223, 55, 37))\n",
    "plt.plot(np.arange(slice['dv']['x'].shape[0]) / slice['dv']['sr'], normalize(slice['dv']['x']), linewidth=0.5)\n",
    "plt.plot(np.arange(slice['wv']['x'].shape[0]) / slice['wv']['sr'], normalize(slice['wv']['x']), linewidth=0.5)"
   ]
  },
  {
   "cell_type": "code",
   "execution_count": null,
   "metadata": {},
   "outputs": [],
   "source": [
    "slice = aligned.getSlice([0,5], coord='dv', roi=(211, 223, 55, 37))\n",
    "plt.plot(np.arange(slice['dv']['x'].shape[0]) / slice['dv']['sr'], normalize(slice['dv']['x']), linewidth=0.5)\n",
    "plt.plot(np.arange(slice['wv']['x'].shape[0]) / slice['wv']['sr'], normalize(slice['wv']['x']), linewidth=0.5)"
   ]
  },
  {
   "cell_type": "code",
   "execution_count": null,
   "metadata": {},
   "outputs": [],
   "source": [
    "slice = aligned.getSlice([60.5,61.5], coord='wv', roi=(211, 223, 55, 37))\n",
    "plt.plot(np.arange(slice['dv']['x'].shape[0]) / slice['dv']['sr'], normalize(slice['dv']['x']), linewidth=0.5)\n",
    "plt.plot(np.arange(slice['wv']['x'].shape[0]) / slice['wv']['sr'], normalize(slice['wv']['x']), linewidth=0.5)"
   ]
  },
  {
   "cell_type": "code",
   "execution_count": null,
   "metadata": {},
   "outputs": [],
   "source": [
    "slice = aligned.getSlice([60.5,61.5], coord='wv', roi=(211, 223, 55, 37))\n",
    "plt.plot(np.arange(slice['dv']['x'].shape[0]) / slice['dv']['sr'], normalize(slice['dv']['x']), linewidth=0.5)\n",
    "plt.plot(np.arange(slice['wv']['x'].shape[0]) / slice['wv']['sr'], normalize(slice['wv']['x']), linewidth=0.5)"
   ]
  }
 ],
 "metadata": {
  "interpreter": {
   "hash": "98e5c40efd2962bfa26de09bb1deac289a4ed3ad793c5f00ca7c04c40cf71b1e"
  },
  "kernelspec": {
   "display_name": "Python 3 (ipykernel)",
   "language": "python",
   "name": "python3"
  },
  "language_info": {
   "codemirror_mode": {
    "name": "ipython",
    "version": 3
   },
   "file_extension": ".py",
   "mimetype": "text/x-python",
   "name": "python",
   "nbconvert_exporter": "python",
   "pygments_lexer": "ipython3",
   "version": "3.9.7"
  }
 },
 "nbformat": 4,
 "nbformat_minor": 4
}
