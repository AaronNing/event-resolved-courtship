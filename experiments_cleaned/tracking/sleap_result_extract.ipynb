{
 "cells": [
  {
   "cell_type": "code",
   "execution_count": null,
   "metadata": {},
   "outputs": [],
   "source": [
    "import os\n",
    "import sys\n",
    "\n",
    "import numpy as np\n",
    "import pandas as pd\n",
    "import seaborn as sns\n",
    "import matplotlib.pyplot as plt\n",
    "import h5py\n",
    "\n",
    "sys.path.append(r\"D:\\codes\\python\\courtship\\utils\")\n",
    "from utils import *\n",
    "from sleap_utils import *\n",
    "\n",
    "%load_ext autoreload\n",
    "%autoreload 2"
   ]
  },
  {
   "cell_type": "code",
   "execution_count": null,
   "metadata": {},
   "outputs": [],
   "source": [
    "h5_dir = r\"D:\\Fight\\rotation\\Wei Zhang\\projects\\courtship song\\data\\fromZJC\\sleap\"\n",
    "h5_fname = \"labels.v000.analysis.h5\"\n",
    "\n",
    "h5_path = os.path.join(h5_dir, h5_fname)\n",
    "fps = 25"
   ]
  },
  {
   "cell_type": "code",
   "execution_count": null,
   "metadata": {},
   "outputs": [],
   "source": [
    "with h5py.File(h5_path, 'r') as f:\n",
    "    instance_scores = f['instance_scores'][:]\n",
    "    node_names = f['node_names'][:]\n",
    "    point_scores = f['point_scores'][:]\n",
    "    tracking_scores = f['tracking_scores'][:]\n",
    "    occupancy = f['track_occupancy'][:].transpose()\n",
    "    tracks_mat = np.transpose(f['tracks'][:], axes=[0,2,1,3])"
   ]
  },
  {
   "cell_type": "code",
   "execution_count": null,
   "metadata": {},
   "outputs": [],
   "source": []
  },
  {
   "cell_type": "code",
   "execution_count": null,
   "metadata": {},
   "outputs": [],
   "source": [
    "track_dfs = readTracks(h5_path)\n",
    "\n",
    "track_dfs = [addMetrics(track_df, max_displacement=60) for track_df in track_dfs]\n",
    "\n",
    "temp = [get_flyclips(track_df, min_consecutive=60) for track_df in track_dfs]\n",
    "flyclips = []\n",
    "for clip in temp:\n",
    "    for c in clip:\n",
    "        flyclips.append(c)"
   ]
  },
  {
   "cell_type": "code",
   "execution_count": null,
   "metadata": {},
   "outputs": [],
   "source": [
    "pairing = get_pairing_info(h5_path)\n",
    "\n",
    "paired_track_dfs = [pair_tracks(track_dfs=[track_dfs[i] for i in pair]) for pair in pairing]\n",
    "\n",
    "temp = [get_flyclips(paired_track_df, min_consecutive=60) for paired_track_df in paired_track_dfs]\n",
    "flyclips_paired = []\n",
    "for clip in temp:\n",
    "    for c in clip:\n",
    "        flyclips_paired.append(c)"
   ]
  },
  {
   "cell_type": "code",
   "execution_count": null,
   "metadata": {},
   "outputs": [],
   "source": [
    "# add timestamps\n",
    "\n",
    "ts_path = r\"D:\\Fight\\rotation\\Wei Zhang\\projects\\courtship song\\data\\fromZJC\\dvSave-2021_12_29_16_10_58_timestamps.txt\"\n",
    "\n",
    "ts = np.loadtxt(ts_path).astype(np.int64)\n",
    "ts_dict = dict(zip(list(range(len(ts))), ts))\n",
    "\n",
    "for i in range(len(flyclips_paired)):\n",
    "    flyclips_paired[i]['timestamp'] = [ts_dict[frame] for frame in flyclips_paired[i]['frame']]\n",
    "\n",
    "for i in range(len(flyclips)):\n",
    "    flyclips[i]['timestamp'] = [ts_dict[frame] for frame in flyclips[i]['frame']]\n"
   ]
  },
  {
   "cell_type": "code",
   "execution_count": null,
   "metadata": {},
   "outputs": [],
   "source": [
    "# save the clips\n",
    "\n",
    "save_dir = r\"D:\\Fight\\rotation\\Wei Zhang\\projects\\courtship song\\data\\out\\sleap_out\"\n",
    "\n",
    "task_dir = os.path.join(save_dir, \"20220405_0\")\n",
    "if not os.path.exists(task_dir):\n",
    "    os.mkdir(task_dir)\n",
    "\n",
    "clips_dir = os.path.join(task_dir, \"flyclips\")\n",
    "if not os.path.exists(clips_dir):\n",
    "    os.mkdir(clips_dir)\n",
    "for i, clip in enumerate(flyclips):\n",
    "    clip.to_csv(os.path.join(clips_dir, str(i) + '.txt'))\n",
    "\n",
    "paired_clips_dir = os.path.join(task_dir, \"flyclips_paired\")\n",
    "if not os.path.exists(paired_clips_dir):\n",
    "    os.mkdir(paired_clips_dir)\n",
    "for i, clip in enumerate(flyclips_paired):\n",
    "    clip.to_csv(os.path.join(paired_clips_dir, str(i) + '.txt'))"
   ]
  },
  {
   "cell_type": "code",
   "execution_count": null,
   "metadata": {},
   "outputs": [],
   "source": []
  },
  {
   "cell_type": "code",
   "execution_count": null,
   "metadata": {},
   "outputs": [],
   "source": []
  }
 ],
 "metadata": {
  "interpreter": {
   "hash": "e74a9d5d0dbe5cb3e6f09fd84749868730390c0072930667f382c48d0105464b"
  },
  "kernelspec": {
   "display_name": "Python 3.6.13 ('sleap')",
   "language": "python",
   "name": "python3"
  },
  "language_info": {
   "codemirror_mode": {
    "name": "ipython",
    "version": 3
   },
   "file_extension": ".py",
   "mimetype": "text/x-python",
   "name": "python",
   "nbconvert_exporter": "python",
   "pygments_lexer": "ipython3",
   "version": "3.8.13"
  }
 },
 "nbformat": 4,
 "nbformat_minor": 2
}
