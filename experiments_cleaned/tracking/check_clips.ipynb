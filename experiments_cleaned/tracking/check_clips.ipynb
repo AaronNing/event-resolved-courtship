{
 "cells": [
  {
   "cell_type": "code",
   "execution_count": null,
   "metadata": {},
   "outputs": [],
   "source": [
    "import cv2\n",
    "import pandas as pd\n",
    "import numpy as np\n",
    "import os\n",
    "import matplotlib.pyplot as plt\n",
    "\n",
    "import sys\n",
    "sys.path.append(r\"D:\\codes\\python\\courtship\\utils\")\n",
    "from cv2_utils import *\n",
    "\n",
    "%load_ext autoreload\n",
    "%autoreload 2"
   ]
  },
  {
   "cell_type": "code",
   "execution_count": null,
   "metadata": {},
   "outputs": [],
   "source": [
    "# clips_dir = r\"D:\\Fight\\rotation\\Wei Zhang\\projects\\courtship song\\data\\out\\sleap_out\\20220405_0\\flyclips_paired\"\n",
    "clips_dir = r\"D:\\Fight\\rotation\\Wei Zhang\\projects\\courtship song\\data\\out\\sleap_out\\20220405_0\\flyclips\"\n",
    "rgb_path = r\"D:\\Fight\\rotation\\Wei Zhang\\projects\\courtship song\\data\\fromZJC\\dvSave-2021_12_29_16_10_58.mp4\"\n"
   ]
  },
  {
   "cell_type": "code",
   "execution_count": null,
   "metadata": {},
   "outputs": [],
   "source": [
    "cap = cv2.VideoCapture(rgb_path)\n",
    "success = True\n",
    "frames = []\n",
    "while(True):\n",
    "    success, frame = cap.read()\n",
    "    if not success: break\n",
    "    frames.append(frame)\n",
    "frames = np.array(frames)\n",
    "    "
   ]
  },
  {
   "cell_type": "code",
   "execution_count": null,
   "metadata": {},
   "outputs": [],
   "source": [
    "def annotate_frames(frames, clip):\n",
    "    frames_clip = frames[clip['frame'].values,]\n",
    "\n",
    "    x_col_names = filter(lambda s: s.startswith('x_'), clip.columns)\n",
    "    y_col_names = filter(lambda s: s.startswith('y_'), clip.columns)\n",
    "    xy_pairs = list(zip(x_col_names, y_col_names))\n",
    "    xy_colors = np.array([[1,0,0], [0,1,0], [0,0,1], [1,1,0], [1,0,1], [0,1,1]])[:len(xy_pairs)]*255\n",
    "    for i in range(len(clip)):\n",
    "        img = frames_clip[i,]\n",
    "        for xy_pair, color in zip(xy_pairs, xy_colors):\n",
    "            xy = clip.iloc[i][[xy_pair[0], xy_pair[1]]].values\n",
    "            xy = np.round(xy.astype(float)).astype(int)\n",
    "            cv2.circle(img, center=xy, radius=3, color=color.tolist(), thickness=-1)\n",
    "        # plt.imshow(img)\n",
    "        # break\n",
    "        frames_clip[i,] = img\n",
    "\n",
    "    return frames_clip\n",
    "\n",
    "\n",
    "\n",
    "for root, _, files in os.walk(clips_dir):\n",
    "    for file in files:\n",
    "        if file.endswith('.txt'):\n",
    "            clip = pd.read_csv(os.path.join(root, file), index_col=0)\n",
    "            frames_clip = annotate_frames(frames, clip)\n",
    "            save_frames(os.path.join(root, file.split('.')[0] + '.mp4'), frames_clip)\n",
    "            break"
   ]
  },
  {
   "cell_type": "code",
   "execution_count": null,
   "metadata": {},
   "outputs": [],
   "source": []
  }
 ],
 "metadata": {
  "interpreter": {
   "hash": "98e5c40efd2962bfa26de09bb1deac289a4ed3ad793c5f00ca7c04c40cf71b1e"
  },
  "kernelspec": {
   "display_name": "Python 3.8.13 ('dv')",
   "language": "python",
   "name": "python3"
  },
  "language_info": {
   "codemirror_mode": {
    "name": "ipython",
    "version": 3
   },
   "file_extension": ".py",
   "mimetype": "text/x-python",
   "name": "python",
   "nbconvert_exporter": "python",
   "pygments_lexer": "ipython3",
   "version": "3.8.13"
  }
 },
 "nbformat": 4,
 "nbformat_minor": 2
}
