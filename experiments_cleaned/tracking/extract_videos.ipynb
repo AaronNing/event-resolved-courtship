{
 "cells": [
  {
   "cell_type": "code",
   "execution_count": null,
   "id": "9c841c91-ee62-4378-a47f-9991ecdd4678",
   "metadata": {},
   "outputs": [],
   "source": [
    "import cv2\n",
    "import numpy as np\n",
    "# import matplotlib.pyplot as plt\n",
    "import os\n",
    "from dv import AedatFile"
   ]
  },
  {
   "cell_type": "code",
   "execution_count": null,
   "id": "10689648-fa1a-4e83-a0e9-f6575d725808",
   "metadata": {},
   "outputs": [],
   "source": [
    "# aedat_dir = r\"D:\\Fight\\rotation\\Wei Zhang\\projects\\courtship song\\data\\aedat\"\n",
    "aedat_dir = r\"D:\\Fight\\rotation\\Wei Zhang\\projects\\courtship song\\data\\fromZJC\"\n",
    "# aedat_fname = 'dvSave-2022_04_02_02_51_00_bitcode_test.aedat4'"
   ]
  },
  {
   "cell_type": "code",
   "execution_count": null,
   "id": "a5fd704c-3dbc-4718-bb41-5b76bc2f8216",
   "metadata": {},
   "outputs": [],
   "source": [
    "for aedat_fname in filter(lambda s: s.endswith('.aedat4'), os.listdir(aedat_dir)):\n",
    "    aedat_path = os.path.join(aedat_dir, aedat_fname)\n",
    "    out_video_path = os.path.join(aedat_dir, aedat_fname.split('.')[0] + '.mp4')\n",
    "    out_ts_path = os.path.join(aedat_dir, aedat_fname.split('.')[0] + '_timestamps.txt')\n",
    "\n",
    "    with AedatFile(aedat_path) as f:\n",
    "        timestamps, frames = zip(*[(frame.timestamp, frame.image) for frame in f['frames']])\n",
    "        timestamps = np.array(timestamps)\n",
    "        frames = np.array(frames)\n",
    "\n",
    "    fourcc = cv2.VideoWriter_fourcc(*'mp4v')\n",
    "    size = [frames.shape[2], frames.shape[1]]\n",
    "    fps = 25\n",
    "    vw = cv2.VideoWriter(out_video_path, fourcc, fps, size, isColor = True)\n",
    "    for frame in frames:\n",
    "        vw.write(frame)\n",
    "    vw.release()\n",
    "\n",
    "    np.savetxt(out_ts_path, timestamps, fmt='%s')"
   ]
  },
  {
   "cell_type": "code",
   "execution_count": null,
   "id": "dac68f46-53d7-4d36-8c79-90f0f5a2ecbc",
   "metadata": {},
   "outputs": [],
   "source": []
  },
  {
   "cell_type": "code",
   "execution_count": null,
   "id": "133ead52-9559-4705-bbad-845ac15531d5",
   "metadata": {},
   "outputs": [],
   "source": []
  },
  {
   "cell_type": "code",
   "execution_count": null,
   "id": "39e61962",
   "metadata": {},
   "outputs": [],
   "source": []
  }
 ],
 "metadata": {
  "kernelspec": {
   "display_name": "Python 3 (ipykernel)",
   "language": "python",
   "name": "python3"
  },
  "language_info": {
   "codemirror_mode": {
    "name": "ipython",
    "version": 3
   },
   "file_extension": ".py",
   "mimetype": "text/x-python",
   "name": "python",
   "nbconvert_exporter": "python",
   "pygments_lexer": "ipython3",
   "version": "3.8.13"
  }
 },
 "nbformat": 4,
 "nbformat_minor": 5
}
