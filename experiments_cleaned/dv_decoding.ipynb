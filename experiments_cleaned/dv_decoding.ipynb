{
 "cells": [
  {
   "cell_type": "code",
   "execution_count": null,
   "metadata": {},
   "outputs": [],
   "source": [
    "import cv2\n",
    "import numpy as np\n",
    "import matplotlib.pyplot as plt\n",
    "import os\n",
    "from dv import AedatFile\n",
    "import pandas as pd\n",
    "import sys\n",
    "\n",
    "sys.path.append(\"../utils\")\n",
    "from dv_utils import *\n",
    "\n",
    "%load_ext autoreload\n",
    "%autoreload 2"
   ]
  },
  {
   "cell_type": "code",
   "execution_count": null,
   "metadata": {},
   "outputs": [],
   "source": [
    "aedat_dir = r\"D:\\Fight\\rotation\\Wei Zhang\\projects\\courtship song\\data\\aedat\"\n",
    "aedat_fname = 'dvSave-2022_04_02_02_51_00_bitcode_test.aedat4'\n",
    "\n",
    "aedat_path = os.path.join(aedat_dir, aedat_fname)"
   ]
  },
  {
   "cell_type": "code",
   "execution_count": null,
   "metadata": {},
   "outputs": [],
   "source": [
    "with AedatFile(aedat_path) as f:\n",
    "    # list all the names of streams in the file\n",
    "    print(f.names)\n",
    "\n",
    "    print(f['events'].size)\n"
   ]
  },
  {
   "cell_type": "code",
   "execution_count": null,
   "metadata": {},
   "outputs": [],
   "source": [
    "# with AedatFile(aedat_path) as f:\n",
    "#     for frame in f['frames']:\n",
    "#         img = frame.image\n",
    "# roi = cv2.selectROI(img)\n",
    "# cv2.destroyAllWindows()\n",
    "roi = (211, 223, 55, 37)"
   ]
  },
  {
   "cell_type": "code",
   "execution_count": null,
   "metadata": {},
   "outputs": [],
   "source": [
    "with AedatFile(aedat_path) as f:\n",
    "\n",
    "    packet = next(f['events'].numpy())\n",
    "    ts, xs, ys, ps = tuple(zip(*packet))[:4]"
   ]
  },
  {
   "cell_type": "code",
   "execution_count": null,
   "metadata": {},
   "outputs": [],
   "source": []
  },
  {
   "cell_type": "code",
   "execution_count": null,
   "metadata": {},
   "outputs": [],
   "source": [
    "with AedatFile(aedat_path) as f:\n",
    "\n",
    "    ma=0\n",
    "    it = f['events'].numpy()\n",
    "    mi = min(tuple(zip(*next(it)))[0])\n",
    "    for i, packet in enumerate(it):\n",
    "        ts = tuple(zip(*packet))[0]\n",
    "        if (i % 100 == 0):\n",
    "            print(\"passing packet [\" + str(i) + \"], len = \" + str(len(ts)))\n",
    "        ma = max(ts)\n"
   ]
  },
  {
   "cell_type": "code",
   "execution_count": null,
   "metadata": {},
   "outputs": [],
   "source": []
  },
  {
   "cell_type": "code",
   "execution_count": null,
   "metadata": {},
   "outputs": [],
   "source": [
    "fps = 5000\n",
    "out = accumulate(aedat_path, fps=fps, roi=roi, tw_mode=True, tw=[3, 5])"
   ]
  },
  {
   "cell_type": "code",
   "execution_count": null,
   "metadata": {},
   "outputs": [],
   "source": [
    "out = np.array(out)\n",
    "plt.figure(figsize=[14,4], dpi=300)\n",
    "plt.plot(np.arange(out.shape[0])/fps, out, linewidth=0.5)\n",
    "plt.show()"
   ]
  },
  {
   "cell_type": "code",
   "execution_count": null,
   "metadata": {},
   "outputs": [],
   "source": [
    "save_path = os.path.join(aedat_dir, aedat_fname.split('.')[0] + '.csv')\n",
    "save_info_path = os.path.join(aedat_dir, aedat_fname.split('.')[0] + '.txt')\n",
    "np.savetxt(save_path, out, fmt='%d')\n",
    "np.savetxt(save_info_path, np.array(['fps', fps]), fmt='%s')"
   ]
  },
  {
   "cell_type": "code",
   "execution_count": null,
   "metadata": {},
   "outputs": [],
   "source": []
  },
  {
   "cell_type": "code",
   "execution_count": null,
   "metadata": {},
   "outputs": [],
   "source": []
  },
  {
   "cell_type": "code",
   "execution_count": null,
   "metadata": {},
   "outputs": [],
   "source": []
  },
  {
   "cell_type": "code",
   "execution_count": null,
   "metadata": {},
   "outputs": [],
   "source": []
  },
  {
   "cell_type": "code",
   "execution_count": null,
   "metadata": {},
   "outputs": [],
   "source": []
  }
 ],
 "metadata": {
  "interpreter": {
   "hash": "98e5c40efd2962bfa26de09bb1deac289a4ed3ad793c5f00ca7c04c40cf71b1e"
  },
  "kernelspec": {
   "display_name": "Python 3.8.13 ('dv')",
   "language": "python",
   "name": "python3"
  },
  "language_info": {
   "codemirror_mode": {
    "name": "ipython",
    "version": 3
   },
   "file_extension": ".py",
   "mimetype": "text/x-python",
   "name": "python",
   "nbconvert_exporter": "python",
   "pygments_lexer": "ipython3",
   "version": "3.8.13"
  }
 },
 "nbformat": 4,
 "nbformat_minor": 2
}
