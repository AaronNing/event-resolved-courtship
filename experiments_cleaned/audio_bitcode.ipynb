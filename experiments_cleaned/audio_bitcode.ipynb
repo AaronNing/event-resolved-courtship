{
 "cells": [
  {
   "cell_type": "code",
   "execution_count": null,
   "metadata": {},
   "outputs": [],
   "source": [
    "import librosa\n",
    "import librosa.display\n",
    "import os\n",
    "import matplotlib.pyplot as plt\n",
    "import numpy as np\n",
    "import scipy.signal as signal\n",
    "import seaborn as sns\n",
    "import sys\n",
    "\n",
    "sys.path.append(\"../utils\")\n",
    "from bitcode import *\n",
    "from utils import *"
   ]
  },
  {
   "cell_type": "code",
   "execution_count": null,
   "metadata": {},
   "outputs": [],
   "source": [
    "wav_dir = r\"D:\\Fight\\rotation\\Wei Zhang\\projects\\courtship song\\data\\wav\"\n",
    "wav_name = '20220401_0_bitcode_test.wav'\n",
    "out_dir = r\"D:\\Fight\\rotation\\Wei Zhang\\projects\\courtship song\\data\\out\"\n",
    "\n",
    "wav_file = os.path.join(wav_dir, wav_name)\n",
    "x, sr = librosa.load(wav_file, sr=None)\n",
    "x.shape, sr"
   ]
  },
  {
   "cell_type": "code",
   "execution_count": null,
   "metadata": {},
   "outputs": [],
   "source": []
  },
  {
   "cell_type": "markdown",
   "metadata": {},
   "source": [
    "## show spec"
   ]
  },
  {
   "cell_type": "code",
   "execution_count": null,
   "metadata": {},
   "outputs": [],
   "source": [
    "show_spec(x, sr)"
   ]
  },
  {
   "cell_type": "code",
   "execution_count": null,
   "metadata": {},
   "outputs": [],
   "source": [
    "time_range = [0, 20] #s\n",
    "\n",
    "show_spec(x, sr, time_range)"
   ]
  },
  {
   "cell_type": "code",
   "execution_count": null,
   "metadata": {},
   "outputs": [],
   "source": [
    "time_range = [0.2, 0.8] #s\n",
    "\n",
    "show_spec(x, sr, time_range)"
   ]
  },
  {
   "cell_type": "code",
   "execution_count": null,
   "metadata": {},
   "outputs": [],
   "source": [
    "def decomp(x, sr, time_range):\n",
    "    if time_range != None:\n",
    "        idx_range = np.floor(np.array(time_range) * sr).astype(int)\n",
    "        x = x[idx_range[0] : idx_range[1]]\n",
    "    X = librosa.stft(x)\n",
    "    D_harmonic, D_percussive = librosa.decompose.hpss(X)\n",
    "\n",
    "    Xdb = librosa.amplitude_to_db(abs(X))\n",
    "    plt.figure(figsize=(14, 5), dpi=300)\n",
    "    librosa.display.specshow(Xdb, sr=sr, x_axis='time', y_axis='log')\n",
    "    plt.colorbar()\n",
    "    plt.show()\n",
    "\n",
    "    Xdb = librosa.amplitude_to_db(abs(D_harmonic))\n",
    "    plt.figure(figsize=(14, 5), dpi=300)\n",
    "    librosa.display.specshow(Xdb, sr=sr, x_axis='time', y_axis='log')\n",
    "    plt.colorbar()\n",
    "    plt.show()\n",
    "\n",
    "    Xdb = librosa.amplitude_to_db(abs(D_percussive))\n",
    "    plt.figure(figsize=(14, 5), dpi=300)\n",
    "    librosa.display.specshow(Xdb, sr=sr, x_axis='time', y_axis='log')\n",
    "    plt.colorbar()\n",
    "    plt.show()"
   ]
  },
  {
   "cell_type": "code",
   "execution_count": null,
   "metadata": {},
   "outputs": [],
   "source": [
    "decomp(x, sr, [0,10])"
   ]
  },
  {
   "cell_type": "markdown",
   "metadata": {},
   "source": [
    "# decode bitcode"
   ]
  },
  {
   "cell_type": "code",
   "execution_count": null,
   "metadata": {},
   "outputs": [],
   "source": [
    "x_perc = getPerc(x, sr, [0.23,0.3])\n",
    "pulses = getPulseOnsets(x_perc, 0.03*sr, 0.03*sr, show=True)"
   ]
  },
  {
   "cell_type": "code",
   "execution_count": null,
   "metadata": {},
   "outputs": [],
   "source": [
    "x_perc = getPerc(x, sr, time_range=[0,5])\n",
    "pulses = getPulseOnsets(x_perc, pre_max=0.03*sr, post_max=0.03*sr, show=True)\n",
    "codes = decodeBitcodeTrain(pulses/sr, show=True)\n",
    "codes"
   ]
  },
  {
   "cell_type": "code",
   "execution_count": null,
   "metadata": {},
   "outputs": [],
   "source": [
    "x_perc = getPerc(x, sr, time_range=[0,60])\n",
    "pulses = getPulseOnsets(x_perc, pre_max=0.03*sr, post_max=0.03*sr, show=False)\n",
    "codes = decodeBitcodeTrain(pulses/sr, show=False)\n",
    "codes"
   ]
  },
  {
   "cell_type": "code",
   "execution_count": null,
   "metadata": {},
   "outputs": [],
   "source": [
    "import pandas as pd\n",
    "\n",
    "savepath = os.path.join(out_dir, wav_name.split('.')[0] + '_codes.csv')\n",
    "pd.DataFrame(codes, columns=['time', 'code']).to_csv(savepath)"
   ]
  },
  {
   "cell_type": "code",
   "execution_count": null,
   "metadata": {},
   "outputs": [],
   "source": []
  },
  {
   "cell_type": "code",
   "execution_count": null,
   "metadata": {},
   "outputs": [],
   "source": []
  },
  {
   "cell_type": "code",
   "execution_count": null,
   "metadata": {},
   "outputs": [],
   "source": []
  }
 ],
 "metadata": {
  "interpreter": {
   "hash": "98e5c40efd2962bfa26de09bb1deac289a4ed3ad793c5f00ca7c04c40cf71b1e"
  },
  "kernelspec": {
   "display_name": "Python 3 (ipykernel)",
   "language": "python",
   "name": "python3"
  },
  "language_info": {
   "codemirror_mode": {
    "name": "ipython",
    "version": 3
   },
   "file_extension": ".py",
   "mimetype": "text/x-python",
   "name": "python",
   "nbconvert_exporter": "python",
   "pygments_lexer": "ipython3",
   "version": "3.8.13"
  }
 },
 "nbformat": 4,
 "nbformat_minor": 4
}
