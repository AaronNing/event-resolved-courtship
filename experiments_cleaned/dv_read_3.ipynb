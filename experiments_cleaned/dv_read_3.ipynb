{
 "cells": [
  {
   "cell_type": "code",
   "execution_count": null,
   "metadata": {},
   "outputs": [],
   "source": [
    "import librosa\n",
    "import librosa.display\n",
    "import os\n",
    "import matplotlib.pyplot as plt\n",
    "import numpy as np\n",
    "import scipy.signal as signal\n",
    "import seaborn as sns\n",
    "import sys\n",
    "import pandas as pd\n",
    "\n",
    "sys.path.append(\"../utils\")\n",
    "from bitcode import *\n",
    "from utils import *\n",
    "from AlignedDvSound import *\n",
    "\n",
    "%load_ext autoreload\n",
    "%autoreload 2"
   ]
  },
  {
   "cell_type": "code",
   "execution_count": null,
   "metadata": {},
   "outputs": [],
   "source": [
    "aedat_dir = r\"D:\\Fight\\rotation\\Wei Zhang\\projects\\courtship song\\data\\aedat\"\n",
    "aedat_fname = 'dvSave-2022_04_02_03_18_43.aedat4'\n",
    "dv_path = os.path.join(aedat_dir, aedat_fname)"
   ]
  },
  {
   "cell_type": "code",
   "execution_count": null,
   "metadata": {},
   "outputs": [],
   "source": [
    "# choose wing roi\n",
    "with AedatFile(dv_path) as f:\n",
    "    # for frame in f['frames']:\n",
    "    img = next(f['frames']).image\n",
    "    \n",
    "wing_roi = cv2.selectROI(img)\n",
    "cv2.destroyAllWindows()\n",
    "print(wing_roi)"
   ]
  },
  {
   "cell_type": "code",
   "execution_count": null,
   "metadata": {},
   "outputs": [],
   "source": [
    "# wing_roi = (132, 99, 48, 42)"
   ]
  },
  {
   "cell_type": "code",
   "execution_count": null,
   "metadata": {},
   "outputs": [],
   "source": [
    "dv = getDvSlice(dv_path, tw=[5*60+47,5*60+51], fps=40000, roi=wing_roi)"
   ]
  },
  {
   "cell_type": "code",
   "execution_count": null,
   "metadata": {},
   "outputs": [],
   "source": [
    "show_spec(dv['x'], sr=dv['sr'], n_fft=512, yscale='log', time_range=[2, 3])\n",
    "show_spec(dv['x'], sr=dv['sr'], n_fft=1024, yscale='log', time_range=[2, 3])\n",
    "show_spec(dv['x'], sr=dv['sr'], n_fft=2048, yscale='log', time_range=[2, 3])"
   ]
  },
  {
   "cell_type": "code",
   "execution_count": null,
   "metadata": {},
   "outputs": [],
   "source": []
  },
  {
   "cell_type": "code",
   "execution_count": null,
   "metadata": {},
   "outputs": [],
   "source": [
    "fiji = pd.read_csv(r\"D:\\Fight\\rotation\\Wei Zhang\\projects\\courtship song\\data\\fromZJC\\fromFIJI.csv\")\n"
   ]
  },
  {
   "cell_type": "code",
   "execution_count": null,
   "metadata": {},
   "outputs": [],
   "source": [
    "x, sr = fiji.Mean.values, 600\n",
    "\n",
    "plt.figure(figsize=[20,4], dpi=300)\n",
    "plt.plot(x, linewidth=0.5)\n",
    "\n",
    "show_spec(x, sr=sr, n_fft=32, yscale='log', time_range=[0.2, 5])"
   ]
  },
  {
   "cell_type": "code",
   "execution_count": null,
   "metadata": {},
   "outputs": [],
   "source": []
  }
 ],
 "metadata": {
  "interpreter": {
   "hash": "98e5c40efd2962bfa26de09bb1deac289a4ed3ad793c5f00ca7c04c40cf71b1e"
  },
  "kernelspec": {
   "display_name": "Python 3 (ipykernel)",
   "language": "python",
   "name": "python3"
  },
  "language_info": {
   "codemirror_mode": {
    "name": "ipython",
    "version": 3
   },
   "file_extension": ".py",
   "mimetype": "text/x-python",
   "name": "python",
   "nbconvert_exporter": "python",
   "pygments_lexer": "ipython3",
   "version": "3.8.13"
  }
 },
 "nbformat": 4,
 "nbformat_minor": 4
}
